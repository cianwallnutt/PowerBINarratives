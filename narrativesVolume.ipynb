{
 "cells": [
  {
   "cell_type": "code",
   "execution_count": 9,
   "metadata": {},
   "outputs": [],
   "source": [
    "from Narratives import *"
   ]
  },
  {
   "cell_type": "code",
   "execution_count": null,
   "metadata": {},
   "outputs": [
    {
     "name": "stdout",
     "output_type": "stream",
     "text": [
      "Access Token: eyJ0eXAiOiJKV1QiLCJhbGciOiJSUzI1NiIsIng1dCI6ImltaTBZMnowZFlLeEJ0dEFxS19UdDVoWUJUayIsImtpZCI6ImltaTBZMnowZFlLeEJ0dEFxS19UdDVoWUJUayJ9.eyJhdWQiOiJodHRwczovL2FuYWx5c2lzLndpbmRvd3MubmV0L3Bvd2VyYmkvYXBpIiwiaXNzIjoiaHR0cHM6Ly9zdHMud2luZG93cy5uZXQvNTQ4ZDI2YWItOGNhYS00OWUxLTk3YzItYTFiMWEwNmNjMzljLyIsImlhdCI6MTczOTU0NTc2NCwibmJmIjoxNzM5NTQ1NzY0LCJleHAiOjE3Mzk1NDk2NjQsImFpbyI6ImsyUmdZSmkvMTB0M2hzOExTejNyTFA0L1o4WHZBZ0E9IiwiYXBwaWQiOiI4OTNkNTA1My0zZDQwLTQ1ZjAtOThmMy02OWY4NzljMGVjY2UiLCJhcHBpZGFjciI6IjEiLCJpZHAiOiJodHRwczovL3N0cy53aW5kb3dzLm5ldC81NDhkMjZhYi04Y2FhLTQ5ZTEtOTdjMi1hMWIxYTA2Y2MzOWMvIiwiaWR0eXAiOiJhcHAiLCJvaWQiOiI2N2MyYTdjYi0wOTEwLTQ1MmQtOTE0Yy0wNzEzMGJlMTFjNTQiLCJyaCI6IjEuQVNZQXF5YU5WS3FNNFVtWHdxR3hvR3pEbkFrQUFBQUFBQUFBd0FBQUFBQUFBQUFtQUFBbUFBLiIsInN1YiI6IjY3YzJhN2NiLTA5MTAtNDUyZC05MTRjLTA3MTMwYmUxMWM1NCIsInRpZCI6IjU0OGQyNmFiLThjYWEtNDllMS05N2MyLWExYjFhMDZjYzM5YyIsInV0aSI6IjFOay1zQmJIaVVLSGZLNGpKLU5SQUEiLCJ2ZXIiOiIxLjAiLCJ4bXNfaWRyZWwiOiIyNCA3In0.KIVi9i4svYLOR9aIFTppu4RdMV9RZ-_AdFZMyBNeLpzNxcXyurryf_6tzLGvD0y8xX3fARw2RelTYSEtI86Rp4o15qHhsaUAZu0_0rOhMGjU087RmUt5h76zYQD1-HiwYAUWGKr1al0AW9JmTtIyyapTzGl99dd_jUiSEiLZirRdPUg1bRYXOFHmsCl2xyIOv9U29vdELBLkcoazPHJg2IASy-IphllfDFwnrSl9Xzdz7Vk74AVAOtYvLxOFAgJciwGGXnjFSiwa0IaVcu3e3fi3Kcvqi4aujF-hrk6h_SUi_D04qihu8j7eWh6Wl1cH_Wjuupo1aDxrmpU8eBth1g\n",
      "Workspace ID for 'EOU 360 Reporting': 4e5f95af-2574-4a31-913d-b13d2f02d429\n",
      "Dataset ID for 'Volume Monthly': b3b517be-1870-4dd4-8861-205ea23d38d2\n"
     ]
    }
   ],
   "source": [
    "narratives_init(\n",
    "    n_tenant_id = '<your-tenant-id>',\n",
    "    n_client_id = '<your-client-id>',\n",
    "    n_client_secret = '<your-clinet-secret>',\n",
    "    n_sub_key = '<api-key>',\n",
    "\n",
    "    n_deployment_id = \"gpt-4o\",\n",
    "    n_api_version = \"2024-06-01\",\n",
    "    \n",
    "    n_workspace_name = \"EOU 360 Reporting\",\n",
    "    n_dataset_name = 'Volume Monthly',\n",
    "    n_timestamp = datetime.datetime.now()\n",
    ")\n",
    "\n",
    "## Get Current Month\n",
    "q = f\"\"\"\n",
    "EVALUATE\n",
    "VAR MaxMonth445 = \n",
    "    CALCULATE(\n",
    "        MAX('NSR Data'[Month 445]),\n",
    "        'NSR Data'[Closed Month 445] = \"Y\"\n",
    "    )\n",
    "RETURN  SUMMARIZECOLUMNS(\n",
    "\t'NSR Data'[Month 445],\n",
    "\tFILTER('NSR Data',[Month 445] = MaxMonth445),\n",
    "\t\"MonthNumber\", MONTH(MaxMonth445),\n",
    "\t\"FormatMonth\", FORMAT(MaxMonth445,\"yyyy_mmm\")\n",
    ")\"\"\"\n",
    "LatestClosedMonth = PowerBI_Query(q)[\"[MonthNumber]\"][0]\n",
    "CurrentYear = datetime.datetime.now().year"
   ]
  },
  {
   "cell_type": "code",
   "execution_count": null,
   "metadata": {},
   "outputs": [],
   "source": [
    "drill_metric = \"[Unit Cases vs PY]\"\n",
    "prompt = \"\"\"\n",
    "Produce a formal narrative of this data. Do not include anything other than the narrative in your response. \n",
    "Instructions: Discuss the metrics provided for each of the keys. 'Absolute Unit Cases Growth' is the key metric to discuss as it represents absolute growth from prior year. \n",
    "'Unit Cases % Growth' is the relative percentage increase from prior year. \n",
    "'Last Year Unit Cases % Growth' is provided also as a reference to compare how the growth has changed from last year's progress. \n",
    "'vs Target' references unit cases against the business plan. \n",
    "Talk about the metrics in the order of 'Unit Cases % Growth', 'Last Year Unit Cases % Growth', and then mention the difference vs target which is 'Unit Cases % vs Target' and 'Absolute Unit Cases vs Target'. \n",
    "Avoid using overly superfluous words (significant, modest, notable) to describe performance.Rather, focus on the simplicity of the narrative and then the dissemination. \n",
    "Avoid all adjectives or descriptive words for the data.\n",
    "\"\"\"\n",
    "summary_prompt=\"\"\"\n",
    "Rewrite this long narrative to build a report out of our performance this month. \n",
    "Currently each subsection was written without context of it's parent section. \n",
    "I want a new narrative that can look at all of these sections holistically and produce an insightful description of Europe's performance. \n",
    "The hierarchy follows Europe to Zone to Country, with a breakdown of Category and Channel at each of these levels. \n",
    "So if you see certain channels or categories are performing at each level of the drill down, note this as a single insight rather than repeating it. \n",
    "The narrative should be 'Category X is doing well everywhere'. Do not repeat the same insights as I explained in the context of channel and category. \n",
    "Write me a narrative in the context of reporting out the monthly performance for the company. Keep it factual and insightful.\n",
    "\"\"\"\n",
    "filters = f\"\"\"\n",
    "FILTER(\n",
    "\t'NSR Data',\n",
    "\t[Year 445] = {CurrentYear} && \n",
    "\t[Closed Month 445] = \"Y\" && \n",
    "\tMONTH('NSR Data'[Month 445]) <= {LatestClosedMonth} &&\n",
    "\t[L4 - Operations] <> \"Unassigned\" &&\n",
    "\t[Global Ventures Indicator] = \"Core Brands (Non GV)\" && \n",
    "\t[Beverage Category] <> \"Unassigned\" &&\n",
    "    [L3 - Market Type] IN {{\"Home\", \"AFH\"}}\n",
    ")\"\"\"\n",
    "metrics = \"\"\"\n",
    "\"Absolute Unit Cases Growth\",\n",
    "\t\t\tIF(\n",
    "\t\t\t\tCALCULATE([Unit Cases vs PY]) < 0,\n",
    "\t\t\t\t\"-\" & FORMAT(\n",
    "\t\t\t\t\tROUND(\n",
    "\t\t\t\t\t\tABS(CALCULATE([Unit Cases vs PY])) / 1000000, 1\n",
    "\t\t\t\t\t), \"0.0\") & \" M\",\n",
    "\t\t\t\tFORMAT(\n",
    "\t\t\t\t\tROUND(\n",
    "\t\t\t\t\t\tCALCULATE([Unit Cases vs PY]) / 1000000, 1\n",
    "\t\t\t\t\t), \"0.0\") & \" M\"\n",
    "\t\t\t),\n",
    "    \"Unit Cases % Growth\",\n",
    "        FORMAT(\n",
    "            ROUND(\n",
    "                CALCULATE([Unit Cases % vs PY (CD)]) * 100, 1\n",
    "            ), \"0.0\") & \" %\",\n",
    "    \"Last year Unit Cases % Growth\", \n",
    "        FORMAT(\n",
    "            ROUND(\n",
    "                CALCULATE([Unit Cases Cycling % (CD)]) * 100, 1\n",
    "            ), \"0.0\") & \" %\",\n",
    "    \"Absolute Unit Cases vs Target\", \n",
    "\t\t\tIF(\n",
    "\t\t\t\tCALCULATE([Unit Cases vs BP]) < 0,\n",
    "\t\t\t\t\"-\" & FORMAT(\n",
    "\t\t\t\t\tROUND(\n",
    "\t\t\t\t\t\tABS(CALCULATE([Unit Cases vs BP])) / 1000000, 1\n",
    "\t\t\t\t\t), \"0.0\") & \" M\",\n",
    "\t\t\t\tFORMAT(\n",
    "\t\t\t\t\tROUND(\n",
    "\t\t\t\t\t\tCALCULATE([Unit Cases vs BP]) / 1000000, 1\n",
    "\t\t\t\t\t), \"0.0\") & \" M\"\n",
    "\t\t\t)\n",
    "\"\"\"\n",
    "query_json = {\n",
    "    'filters': filters,\n",
    "    'metrics':metrics,\n",
    "    'drill_metric': drill_metric,\n",
    "    'dimensions': []\n",
    "}"
   ]
  },
  {
   "cell_type": "code",
   "execution_count": 13,
   "metadata": {},
   "outputs": [
    {
     "name": "stdout",
     "output_type": "stream",
     "text": [
      "Grouping: 'NSR Data'[L5 - Operating Unit]\n",
      "Grouping: 'NSR Data'[L3 - Market Type]\n",
      "Grouping: 'NSR Data'[Beverage Category]\n",
      "Grouping: 'NSR Data'[L4 - Operations]\n",
      "Grouping: [\"'NSR Data'[L4 - Operations]\"] Ranking Top 2: 'NSR Data'[L3 - Market Type]\n",
      "Grouping: [\"'NSR Data'[L4 - Operations]\"] Ranking Top 2: 'NSR Data'[Beverage Category]\n",
      "Grouping: [\"'NSR Data'[L4 - Operations]\"] Ranking Top 2: 'NSR Data'[L1 - Country]\n",
      "Grouping: [\"'NSR Data'[L4 - Operations]\", \"'NSR Data'[L1 - Country]\"] Ranking Top 2: 'NSR Data'[L3 - Market Type]\n",
      "Grouping: [\"'NSR Data'[L4 - Operations]\"] Ranking Top 2: 'NSR Data'[L1 - Country]\n",
      "Grouping: [\"'NSR Data'[L4 - Operations]\", \"'NSR Data'[L1 - Country]\"] Ranking Top 2: 'NSR Data'[Beverage Category]\n"
     ]
    }
   ],
   "source": [
    "data = []\n",
    "##Europe\n",
    "query_json['dimensions'] = [\"'NSR Data'[L5 - Operating Unit]\"]\n",
    "data.append(single_level(query_json))\n",
    "\n",
    "##Channel\n",
    "query_json['dimensions'] = [\"'NSR Data'[L3 - Market Type]\"]\n",
    "data.append(single_level(query_json))\n",
    "\n",
    "##Category\n",
    "query_json['dimensions'] = [\"'NSR Data'[Beverage Category]\"]\n",
    "data.append(single_level(query_json))\n",
    "\n",
    "##Zone\n",
    "query_json['dimensions'] = [\"'NSR Data'[L4 - Operations]\"]\n",
    "data.append(single_level(query_json))\n",
    "\n",
    "##Zone+Channel\n",
    "query_json['dimensions'] = [\"'NSR Data'[L4 - Operations]\",\"'NSR Data'[L3 - Market Type]\"]\n",
    "data.append(iterate_dynamic(query_json,2)[-1])\n",
    "\n",
    "##Zone+Category\n",
    "query_json['dimensions'] = [\"'NSR Data'[L4 - Operations]\",\"'NSR Data'[Beverage Category]\"]\n",
    "data.append(iterate_dynamic(query_json,2)[-1])\n",
    "\n",
    "##Zone+Market+Category\n",
    "query_json['dimensions'] = [\"'NSR Data'[L4 - Operations]\",\"'NSR Data'[L1 - Country]\",\"'NSR Data'[L3 - Market Type]\"]\n",
    "data.append(iterate_dynamic(query_json,2)[-1])\n",
    "\n",
    "##Zone+Market+Category\n",
    "query_json['dimensions'] = [\"'NSR Data'[L4 - Operations]\",\"'NSR Data'[L1 - Country]\",\"'NSR Data'[Beverage Category]\"]\n",
    "data.append(iterate_dynamic(query_json,2)[-1])\n",
    "\n",
    "\n",
    "### Produce Narrative\n",
    "narrative = iterateNarratives(data,prompt,summary_prompt)"
   ]
  },
  {
   "cell_type": "code",
   "execution_count": 14,
   "metadata": {},
   "outputs": [
    {
     "data": {
      "text/plain": [
       "\"The company’s performance this month in Europe indicates a strong upward trend compared to the previous year, with notable growth across several categories and channels exceeding the business plan targets. The overall 'Unit Cases % Growth' for Europe was at 3.0%, showing improvement from the last year's 1.7% growth, positioning the region well above the set business plan targets by 174.4 million cases.\\n\\nThe East region achieved a 'Unit Cases % Growth' of 5.2%, slightly lower than last year's 5.8%, but significantly surpassing the target with an absolute growth of 62.6 million cases. Meanwhile, the West region reversed its previous decline with a 'Unit Cases % Growth' of 1.8%, exceeding targets by 111.8 million cases.\\n\\nIn the category analysis, Sparkling Soft Drinks consistently drove performance with growth across most countries. In Europe overall, despite challenges in some segments, the category saw a growth of 2.9%, with a remarkable surplus against the target of 151.7 million cases. Packaged Water also reflected consistent growth throughout the region, notably increasing by 3.9% after previously declining.\\n\\nRegional insights reveal varying patterns. The East region showed strong growth in Packaged Water at 6.8%, overcoming last year’s decline. Sparkling Soft Drinks there also grew by 5.6%, although slightly below last year’s figure. The West region's Energy Drinks outperformed significantly with a remarkable growth of 43.4%, reversing last year’s decline.\\n\\nCountry-specific performances reveal mixed outcomes. Notably, Italy experienced growth in the Home market type but faced challenges hitting targets. In Poland, the Home market saw a decline, whereas the AFH market increased significantly. The United Kingdom and Germany faced shortfalls mainly in the Home market types, despite improvements in particular segments like Germany's Sparkling Soft Drinks.\\n\\nOverall, Sparkling Soft Drinks and Packaged Water have emerged as consistently performing categories that played a crucial role in driving Europe's robust performance this month, reflecting keen alignment with successful business strategies in these segments.\""
      ]
     },
     "execution_count": 14,
     "metadata": {},
     "output_type": "execute_result"
    }
   ],
   "source": [
    "entry={\n",
    "    \"Report\":dataset_name,\n",
    "    \"Table\":f\"{CurrentYear}_{LatestClosedMonth}_narrative\",\n",
    "    \"Narrative\":narrative,\n",
    "    \"Timestamp\":timestamp\n",
    "}\n",
    "write_dict_to_excel(\"Narratives.xlsx\", entry)"
   ]
  }
 ],
 "metadata": {
  "kernelspec": {
   "display_name": "Python 3",
   "language": "python",
   "name": "python3"
  },
  "language_info": {
   "codemirror_mode": {
    "name": "ipython",
    "version": 3
   },
   "file_extension": ".py",
   "mimetype": "text/x-python",
   "name": "python",
   "nbconvert_exporter": "python",
   "pygments_lexer": "ipython3",
   "version": "3.11.9"
  }
 },
 "nbformat": 4,
 "nbformat_minor": 2
}
