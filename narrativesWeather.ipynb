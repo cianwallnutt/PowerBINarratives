{
 "cells": [
  {
   "cell_type": "code",
   "execution_count": 1,
   "metadata": {},
   "outputs": [],
   "source": [
    "from Narratives import *\n"
   ]
  },
  {
   "cell_type": "code",
   "execution_count": 2,
   "metadata": {},
   "outputs": [
    {
     "name": "stdout",
     "output_type": "stream",
     "text": [
      "Access Token: eyJ0eXAiOiJKV1QiLCJhbGciOiJSUzI1NiIsIng1dCI6ImltaTBZMnowZFlLeEJ0dEFxS19UdDVoWUJUayIsImtpZCI6ImltaTBZMnowZFlLeEJ0dEFxS19UdDVoWUJUayJ9.eyJhdWQiOiJodHRwczovL2FuYWx5c2lzLndpbmRvd3MubmV0L3Bvd2VyYmkvYXBpIiwiaXNzIjoiaHR0cHM6Ly9zdHMud2luZG93cy5uZXQvNTQ4ZDI2YWItOGNhYS00OWUxLTk3YzItYTFiMWEwNmNjMzljLyIsImlhdCI6MTczOTU0Nzc0MCwibmJmIjoxNzM5NTQ3NzQwLCJleHAiOjE3Mzk1NTE2NDAsImFpbyI6ImsyUmdZR2dVa092N0pqdVBWU3FxVFAralUwUWlBQT09IiwiYXBwaWQiOiI4OTNkNTA1My0zZDQwLTQ1ZjAtOThmMy02OWY4NzljMGVjY2UiLCJhcHBpZGFjciI6IjEiLCJpZHAiOiJodHRwczovL3N0cy53aW5kb3dzLm5ldC81NDhkMjZhYi04Y2FhLTQ5ZTEtOTdjMi1hMWIxYTA2Y2MzOWMvIiwiaWR0eXAiOiJhcHAiLCJvaWQiOiI2N2MyYTdjYi0wOTEwLTQ1MmQtOTE0Yy0wNzEzMGJlMTFjNTQiLCJyaCI6IjEuQVNZQXF5YU5WS3FNNFVtWHdxR3hvR3pEbkFrQUFBQUFBQUFBd0FBQUFBQUFBQUFtQUFBbUFBLiIsInN1YiI6IjY3YzJhN2NiLTA5MTAtNDUyZC05MTRjLTA3MTMwYmUxMWM1NCIsInRpZCI6IjU0OGQyNmFiLThjYWEtNDllMS05N2MyLWExYjFhMDZjYzM5YyIsInV0aSI6ImY3UXJoVVEtVmtDMWVaYWpmUEYxQUEiLCJ2ZXIiOiIxLjAiLCJ4bXNfaWRyZWwiOiI3IDEyIn0.hrIv9e1mSx7EA-i2l-yYyaGjORi83By8LOrdEiN0Z0DrhyFJA6t8des33Jz5MoLiVEvDxBr-FBkaY98kW7COG3hkddYyEzwZvzNE6397G32_3E9bwSoc8uZdnVMWwWQ0A9CgV2peWDf3pgD6rIAO4jPxedJBUMxn9M90ZLI-2i2VnecUo5jHy4XkaR-QW2gbRv7yp684AdaY7usJiE84quH38ap0wYGNvMB3gc9dp9Jfr4i26o3oLUCz7VN_9PfakxN87Gj8uUzn_vQrP2oR2XBphQDPN3x7PYsHjtQe4lSSw8DY56cPUvnAgDpA7ERMtCbHXy9_yAim38yE0DpKfQ\n",
      "Workspace ID for 'EOU 360 Reporting': 4e5f95af-2574-4a31-913d-b13d2f02d429\n",
      "Dataset ID for 'Weather Impact Report': e5c3f340-276f-4978-8ed9-a20e2d891695\n"
     ]
    }
   ],
   "source": [
    "narratives_init(\n",
    "    n_tenant_id = '<your-tenant-id>',\n",
    "    n_client_id = '<your-client-id>',\n",
    "    n_client_secret = '<your-clinet-secret>',\n",
    "    n_sub_key = '<api-key>',\n",
    "    \n",
    "    n_deployment_id = \"gpt-4o\",\n",
    "    n_api_version = \"2024-06-01\",\n",
    "    \n",
    "    n_workspace_name = \"EOU 360 Reporting\",\n",
    "    n_dataset_name = 'Weather Impact Report',\n",
    "    n_timestamp = datetime.datetime.now()\n",
    ")\n",
    "\n",
    "## Get Current year\n",
    "q = f\"\"\"\n",
    "EVALUATE\n",
    "VAR curYear =  CALCULATE( MAX('Global_WTI_Weather_New_Model'[Year]),'Global_WTI_Weather_New_Model'[Forecast] = \"0\")\n",
    "return ROW(\"Year\",curYear)\n",
    "\"\"\"\n",
    "current_year = PowerBI_Query(q)[\"[Year]\"][0]\n",
    "\n",
    "## Get Current Month\n",
    "q = f\"\"\"\n",
    "EVALUATE\n",
    "VAR MaxMonth = CALCULATE( MAX('Global_WTI_Weather_New_Model'[MonthNumber]),'Global_WTI_Weather_New_Model'[NSR_YTD_YTG] = \"YTD\",'dim Dates'[Year] = {current_year})\n",
    "return SUMMARIZECOLUMNS('Global_WTI_Weather_New_Model'[Month],FILTER('Global_WTI_Weather_New_Model','Global_WTI_Weather_New_Model'[MonthNumber] = MaxMonth))\n",
    "\"\"\"\n",
    "current_month = PowerBI_Query(q)[\"Global_WTI_Weather_New_Model[Month]\"][0]"
   ]
  },
  {
   "cell_type": "code",
   "execution_count": 3,
   "metadata": {},
   "outputs": [],
   "source": [
    "drill_metric = \"[Weather Impact mUC]\"\n",
    "prompt = \"\"\"\n",
    "Produce a formal narrative of this data. Do not include anything other than the narrative in your response. \n",
    "Instructions: \n",
    "Data is weather impact on sales. \n",
    "Business Unit and Country represent the key. \n",
    "There is metrics for Temperature, Precipitation and Cloud Coverage. \n",
    "Each show the deviation vs the prior year (PY) as well as an Impact % expected. \n",
    "The Weather Impact % is the total weather impact % expected, the sum of the temperature, precipitation and cloud coverage impacts. \n",
    "Talk about the key contributors to weather both in the units of measurement of the metric as well as the % impacts. \n",
    "Rank the impacts relative to Weather Impact mUC but don't discuss this metric in the narrative. \n",
    "Avoid using overly superfluous words (significant, modest, notable) to describe performance. \n",
    "Include only the narrative in your response. \n",
    "\"\"\"\n",
    "summary_prompt=\"\"\"\n",
    "Rewrite this long narrative to build a report out of our performance this month. \n",
    "Currently each subsection was written without context of it's parent section. \n",
    "I want a new narrative that can look at all of these sections holistically and produce an insightful description of Europe's performance. \n",
    "The hierarchy follows Europe to Buyer to Bottler to Country. \n",
    "So if you see certain channels or categories are performing at each level of the drill down, note this as a single insight rather than repeating it. \n",
    "The narrative should be 'Buyer X is doing well everywhere'. Write me a narrative in the context of reporting out the monthly performance for the company. \n",
    "Keep it factual and insightful.\n",
    "\"\"\"\n",
    "metrics = \"\"\"\n",
    "\"Temperature CY vs PY (C)\", FORMAT( [Temperature CY vs PY], \"0.0\") & \"C\",\n",
    "\"Temperature Impact %\", FORMAT([Temperature Impact %] * 100, \"0.00\") & \"%\",\n",
    "\"Precipitation CY vs PY (mm)\", FORMAT([Precipitation CY vs PY], \"0.0\") & \"mm\",\n",
    "\"Precipitation Impact %\", FORMAT([Precipitation Impact %] * 100, \"0.00\") & \"%\",\n",
    "\"Cloud Coverage CY vs PY (%)\", FORMAT([Cloud Coverage CY vs PY], \"0.0\") & \"%\",\n",
    "\"Cloud Coverage Impact %\", FORMAT([Cloud Coverage Impact %] * 100, \"0.00\") & \"%\",\n",
    "\"Weather Impact %\", FORMAT([Weather Impact %] * 100, \"0.00\") & \"%\",\n",
    "\"Weather Impact mUC\", FORMAT([Weather Impact mUC]/1000000, \"0.0\") & \"mUC\"\n",
    "\"\"\"\n",
    "filters = f\"\"\"\n",
    "FILTER (\n",
    "\t\t'dim Countries',\n",
    "\t\t'dim Countries'[Operating Unit] = \"Europe\" &&\n",
    "        NOT ('dim Countries'[Country] IN {{\"Russia\", \"Luxembourg\"}})\n",
    "\t),\n",
    "FILTER(\n",
    "\t'dim Dates',\n",
    "\t'dim Dates'[Year] = {current_year} &&\n",
    "\t'dim Dates'[Month] = \"{current_month}\"\n",
    ")\n",
    "\"\"\"\n",
    "\n",
    "query_json = {\n",
    "    'filters': filters,\n",
    "    'metrics':metrics,\n",
    "    'drill_metric': drill_metric,\n",
    "    'dimensions': [\"'dim Countries'[Operating Unit]\",\"'dim Countries'[Zone]\",\"'dim Countries'[Country]\"]\n",
    "}"
   ]
  },
  {
   "cell_type": "code",
   "execution_count": null,
   "metadata": {},
   "outputs": [
    {
     "name": "stdout",
     "output_type": "stream",
     "text": [
      "Grouping: [\"'dim Countries'[Operating Unit]\"] Ranking Top 2: 'dim Countries'[Zone]\n",
      "Grouping: [\"'dim Countries'[Operating Unit]\", \"'dim Countries'[Zone]\"] Ranking Top 2: 'dim Countries'[Country]\n"
     ]
    },
    {
     "data": {
      "text/plain": [
       "'In reviewing our monthly performance in Europe, we observe varied impacts of weather conditions on sales across different countries and regions, revealing both challenges and opportunities. \\n\\nIn the broader regional analysis, Europe East and Europe West have experienced distinct weather impacts influencing sales. Europe East was significantly affected by a temperature increase of 0.9°C, driving a sales impact of 0.77%, despite negligible changes in precipitation and cloudiness. In contrast, Europe West saw a reduction in cloud coverage as a major positive influence, contributing 0.56% to sales, whereas temperature and precipitation played more moderate roles, resulting in a total weather impact of 0.59%.\\n\\nDrilling down further, in specific countries within these regions, diverse weather conditions have played crucial roles in shaping sales outcomes. Remarkably, Italy was negatively impacted, with a notable reduction in cloud coverage accounting for a -1.45% sales impact and an overall weather impact of -1.79%. Conversely, Romania experienced beneficial conditions from a substantial temperature rise of 1.9°C, boosting sales by 2.29% and leading to a positive overall weather impact of 2.36%. Spain also benefited from a decrease in cloud coverage, which contributed significantly to a weather impact of 1.89%, while France saw marginal negative effects with an impact of -0.14%, primarily driven by a temperature drop.\\n\\nDrawing conclusions from this data, it is evident that cloud coverage has prominently influenced performance in multiple regions and countries, such as Europe West, Spain, and Italy, with varying degrees of impact. Overall, the diverse weather patterns across Europe presented a mixed yet insightful month for our sales performance, revealing the crucial need to consider weather variations as a strategic element in planning and forecasting.'"
      ]
     },
     "execution_count": 4,
     "metadata": {},
     "output_type": "execute_result"
    }
   ],
   "source": [
    "out = iterate_dynamic(query_json, 2)\n",
    "narrative = iterateNarratives(out,prompt,summary_prompt)\n",
    "entry={\n",
    "    \"Report\":dataset_name,\n",
    "    \"Table\":f\"{current_year}_{current_month}_narrative\",\n",
    "    \"Narrative\":narrative,\n",
    "    \"Timestamp\":timestamp\n",
    "}\n",
    "write_dict_to_excel(\"Narratives.xlsx\", entry)"
   ]
  }
 ],
 "metadata": {
  "kernelspec": {
   "display_name": "Python 3",
   "language": "python",
   "name": "python3"
  },
  "language_info": {
   "codemirror_mode": {
    "name": "ipython",
    "version": 3
   },
   "file_extension": ".py",
   "mimetype": "text/x-python",
   "name": "python",
   "nbconvert_exporter": "python",
   "pygments_lexer": "ipython3",
   "version": "3.11.9"
  }
 },
 "nbformat": 4,
 "nbformat_minor": 2
}
